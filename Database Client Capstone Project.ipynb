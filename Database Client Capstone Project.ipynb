{
 "cells": [
  {
   "cell_type": "code",
   "execution_count": 1,
   "id": "d3dd32b8",
   "metadata": {},
   "outputs": [
    {
     "name": "stdout",
     "output_type": "stream",
     "text": [
      "the tables in the database are:\n",
      "('bookings',)\n",
      "('customers',)\n",
      "('menuitems',)\n",
      "('menus',)\n",
      "('orderdeliverystatus',)\n",
      "('orders',)\n",
      "('ordersview',)\n",
      "('staff',)\n",
      "name and contact details for every customer that has placed an order greater than $60:\n",
      "('CustomerName', 'PhoneNumber', 'TotalCost')\n",
      "('Vanessa Hernandez', '8326248997', Decimal('86'))\n",
      "('Katie Watkins', '7546248997', Decimal('150'))\n"
     ]
    }
   ],
   "source": [
    "#task 1 connect to MySQL database and instantiate instance of cursor\n",
    "import mysql.connector\n",
    "\n",
    "connection = mysql.connector.connect(\n",
    "  host=\"localhost\",\n",
    "  user=\"root\",\n",
    "  password=\"Nasa1931!\",\n",
    "  database=\"littlelemondb\"\n",
    ")\n",
    "\n",
    "#instantiate instance of cursor. This is the bridge through which one can pass queries and return results\n",
    "mycursor = connection.cursor()\n",
    "\n",
    "\n",
    "\n",
    "#task 2 execute a test query to ensure there are no issues with the connection\n",
    "show_tables_query = \"SHOW tables\" \n",
    "\n",
    "mycursor.execute(show_tables_query)\n",
    "\n",
    "results = mycursor.fetchall()\n",
    "\n",
    "print('the tables in the database are:')\n",
    "for x in results:\n",
    "  print(x)\n",
    "\n",
    "\n",
    "#task 3 Query with table JOIN\n",
    "bill_over_60_query = \"\"\"SELECT customers.CustomerName, customers.PhoneNumber, orders.TotalCost\n",
    "FROM customers \n",
    "INNER JOIN orders \n",
    "ON customers.CustomerID = orders.CustomerID \n",
    "WHERE orders.TotalCost > 60;\"\"\"\n",
    "\n",
    "mycursor.execute(bill_over_60_query)\n",
    "\n",
    "results = mycursor.fetchall()\n",
    "\n",
    "print('name and contact details for every customer that has placed an order greater than $60:')\n",
    "\n",
    "columns = mycursor.column_names\n",
    "print(columns)\n",
    "for x in results:\n",
    "  print(x)\n"
   ]
  }
 ],
 "metadata": {
  "kernelspec": {
   "display_name": "Python 3 (ipykernel)",
   "language": "python",
   "name": "python3"
  },
  "language_info": {
   "codemirror_mode": {
    "name": "ipython",
    "version": 3
   },
   "file_extension": ".py",
   "mimetype": "text/x-python",
   "name": "python",
   "nbconvert_exporter": "python",
   "pygments_lexer": "ipython3",
   "version": "3.11.2"
  }
 },
 "nbformat": 4,
 "nbformat_minor": 5
}
